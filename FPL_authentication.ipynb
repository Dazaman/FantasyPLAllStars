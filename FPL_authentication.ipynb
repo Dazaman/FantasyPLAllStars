{
 "cells": [
  {
   "cell_type": "code",
   "execution_count": 1,
   "metadata": {},
   "outputs": [],
   "source": [
    "import asyncio\n",
    "import aiohttp\n",
    "from prettytable import PrettyTable\n",
    "from fpl import FPL"
   ]
  },
  {
   "cell_type": "code",
   "execution_count": 6,
   "metadata": {},
   "outputs": [
    {
     "ename": "RuntimeError",
     "evalue": "This event loop is already running",
     "output_type": "error",
     "traceback": [
      "\u001b[0;31m---------------------------------------------------------------------------\u001b[0m",
      "\u001b[0;31mRuntimeError\u001b[0m                              Traceback (most recent call last)",
      "\u001b[0;32m<ipython-input-6-476099e6e876>\u001b[0m in \u001b[0;36m<module>\u001b[0;34m\u001b[0m\n\u001b[1;32m     27\u001b[0m     \u001b[0;31m# asyncio.run(main())\u001b[0m\u001b[0;34m\u001b[0m\u001b[0;34m\u001b[0m\u001b[0;34m\u001b[0m\u001b[0m\n\u001b[1;32m     28\u001b[0m     \u001b[0mloop\u001b[0m \u001b[0;34m=\u001b[0m \u001b[0masyncio\u001b[0m\u001b[0;34m.\u001b[0m\u001b[0mget_event_loop\u001b[0m\u001b[0;34m(\u001b[0m\u001b[0;34m)\u001b[0m\u001b[0;34m\u001b[0m\u001b[0;34m\u001b[0m\u001b[0m\n\u001b[0;32m---> 29\u001b[0;31m     \u001b[0mloop\u001b[0m\u001b[0;34m.\u001b[0m\u001b[0mrun_until_complete\u001b[0m\u001b[0;34m(\u001b[0m\u001b[0mmain\u001b[0m\u001b[0;34m(\u001b[0m\u001b[0;34m)\u001b[0m\u001b[0;34m)\u001b[0m\u001b[0;34m\u001b[0m\u001b[0;34m\u001b[0m\u001b[0m\n\u001b[0m",
      "\u001b[0;32m~/anaconda3/lib/python3.7/asyncio/base_events.py\u001b[0m in \u001b[0;36mrun_until_complete\u001b[0;34m(self, future)\u001b[0m\n\u001b[1;32m    564\u001b[0m         \u001b[0mfuture\u001b[0m\u001b[0;34m.\u001b[0m\u001b[0madd_done_callback\u001b[0m\u001b[0;34m(\u001b[0m\u001b[0m_run_until_complete_cb\u001b[0m\u001b[0;34m)\u001b[0m\u001b[0;34m\u001b[0m\u001b[0;34m\u001b[0m\u001b[0m\n\u001b[1;32m    565\u001b[0m         \u001b[0;32mtry\u001b[0m\u001b[0;34m:\u001b[0m\u001b[0;34m\u001b[0m\u001b[0;34m\u001b[0m\u001b[0m\n\u001b[0;32m--> 566\u001b[0;31m             \u001b[0mself\u001b[0m\u001b[0;34m.\u001b[0m\u001b[0mrun_forever\u001b[0m\u001b[0;34m(\u001b[0m\u001b[0;34m)\u001b[0m\u001b[0;34m\u001b[0m\u001b[0;34m\u001b[0m\u001b[0m\n\u001b[0m\u001b[1;32m    567\u001b[0m         \u001b[0;32mexcept\u001b[0m\u001b[0;34m:\u001b[0m\u001b[0;34m\u001b[0m\u001b[0;34m\u001b[0m\u001b[0m\n\u001b[1;32m    568\u001b[0m             \u001b[0;32mif\u001b[0m \u001b[0mnew_task\u001b[0m \u001b[0;32mand\u001b[0m \u001b[0mfuture\u001b[0m\u001b[0;34m.\u001b[0m\u001b[0mdone\u001b[0m\u001b[0;34m(\u001b[0m\u001b[0;34m)\u001b[0m \u001b[0;32mand\u001b[0m \u001b[0;32mnot\u001b[0m \u001b[0mfuture\u001b[0m\u001b[0;34m.\u001b[0m\u001b[0mcancelled\u001b[0m\u001b[0;34m(\u001b[0m\u001b[0;34m)\u001b[0m\u001b[0;34m:\u001b[0m\u001b[0;34m\u001b[0m\u001b[0;34m\u001b[0m\u001b[0m\n",
      "\u001b[0;32m~/anaconda3/lib/python3.7/asyncio/base_events.py\u001b[0m in \u001b[0;36mrun_forever\u001b[0;34m(self)\u001b[0m\n\u001b[1;32m    519\u001b[0m         \u001b[0mself\u001b[0m\u001b[0;34m.\u001b[0m\u001b[0m_check_closed\u001b[0m\u001b[0;34m(\u001b[0m\u001b[0;34m)\u001b[0m\u001b[0;34m\u001b[0m\u001b[0;34m\u001b[0m\u001b[0m\n\u001b[1;32m    520\u001b[0m         \u001b[0;32mif\u001b[0m \u001b[0mself\u001b[0m\u001b[0;34m.\u001b[0m\u001b[0mis_running\u001b[0m\u001b[0;34m(\u001b[0m\u001b[0;34m)\u001b[0m\u001b[0;34m:\u001b[0m\u001b[0;34m\u001b[0m\u001b[0;34m\u001b[0m\u001b[0m\n\u001b[0;32m--> 521\u001b[0;31m             \u001b[0;32mraise\u001b[0m \u001b[0mRuntimeError\u001b[0m\u001b[0;34m(\u001b[0m\u001b[0;34m'This event loop is already running'\u001b[0m\u001b[0;34m)\u001b[0m\u001b[0;34m\u001b[0m\u001b[0;34m\u001b[0m\u001b[0m\n\u001b[0m\u001b[1;32m    522\u001b[0m         \u001b[0;32mif\u001b[0m \u001b[0mevents\u001b[0m\u001b[0;34m.\u001b[0m\u001b[0m_get_running_loop\u001b[0m\u001b[0;34m(\u001b[0m\u001b[0;34m)\u001b[0m \u001b[0;32mis\u001b[0m \u001b[0;32mnot\u001b[0m \u001b[0;32mNone\u001b[0m\u001b[0;34m:\u001b[0m\u001b[0;34m\u001b[0m\u001b[0;34m\u001b[0m\u001b[0m\n\u001b[1;32m    523\u001b[0m             raise RuntimeError(\n",
      "\u001b[0;31mRuntimeError\u001b[0m: This event loop is already running"
     ]
    },
    {
     "name": "stdout",
     "output_type": "stream",
     "text": [
      "\n",
      "myteam  :  [{'element': 47, 'position': 1, 'selling_price': 47, 'multiplier': 1, 'purchase_price': 47, 'is_captain': False, 'is_vice_captain': False}, {'element': 297, 'position': 2, 'selling_price': 45, 'multiplier': 1, 'purchase_price': 40, 'is_captain': False, 'is_vice_captain': False}, {'element': 183, 'position': 3, 'selling_price': 64, 'multiplier': 1, 'purchase_price': 64, 'is_captain': False, 'is_vice_captain': False}, {'element': 164, 'position': 4, 'selling_price': 49, 'multiplier': 1, 'purchase_price': 48, 'is_captain': False, 'is_vice_captain': False}, {'element': 336, 'position': 5, 'selling_price': 49, 'multiplier': 1, 'purchase_price': 49, 'is_captain': False, 'is_vice_captain': False}, {'element': 133, 'position': 6, 'selling_price': 67, 'multiplier': 1, 'purchase_price': 67, 'is_captain': False, 'is_vice_captain': False}, {'element': 342, 'position': 7, 'selling_price': 98, 'multiplier': 1, 'purchase_price': 98, 'is_captain': False, 'is_vice_captain': True}, {'element': 192, 'position': 8, 'selling_price': 122, 'multiplier': 1, 'purchase_price': 122, 'is_captain': False, 'is_vice_captain': False}, {'element': 463, 'position': 9, 'selling_price': 66, 'multiplier': 1, 'purchase_price': 67, 'is_captain': False, 'is_vice_captain': False}, {'element': 166, 'position': 10, 'selling_price': 95, 'multiplier': 2, 'purchase_price': 90, 'is_captain': True, 'is_vice_captain': False}, {'element': 460, 'position': 11, 'selling_price': 79, 'multiplier': 1, 'purchase_price': 79, 'is_captain': False, 'is_vice_captain': False}, {'element': 411, 'position': 12, 'selling_price': 52, 'multiplier': 0, 'purchase_price': 52, 'is_captain': False, 'is_vice_captain': False}, {'element': 313, 'position': 13, 'selling_price': 62, 'multiplier': 0, 'purchase_price': 62, 'is_captain': False, 'is_vice_captain': False}, {'element': 42, 'position': 14, 'selling_price': 46, 'multiplier': 0, 'purchase_price': 46, 'is_captain': False, 'is_vice_captain': False}, {'element': 420, 'position': 15, 'selling_price': 44, 'multiplier': 0, 'purchase_price': 44, 'is_captain': False, 'is_vice_captain': False}]\n",
      "+-------------+-------+----+----+-------+\n",
      "| Player      |   £   | G  | A  | G + A |\n",
      "+-------------+-------+----+----+-------+\n",
      "| Vardy       | £10.0 | 14 | 4  |   18  |\n",
      "| Mané        | £12.3 | 9  | 6  |   15  |\n",
      "| Rashford    |  £8.9 | 10 | 5  |   15  |\n",
      "| Abraham     |  £7.9 | 11 | 3  |   14  |\n",
      "| De Bruyne   | £10.3 | 4  | 10 |   14  |\n",
      "| Son         |  £9.9 | 5  | 9  |   14  |\n",
      "| Aubameyang  | £10.9 | 10 | 2  |   12  |\n",
      "| Agüero      | £11.8 | 9  | 3  |   12  |\n",
      "| Salah       | £12.2 | 7  | 4  |   11  |\n",
      "| David Silva |  £7.6 | 3  | 8  |   11  |\n",
      "+-------------+-------+----+----+-------+\n"
     ]
    }
   ],
   "source": [
    "async def main():\n",
    "    async with aiohttp.ClientSession() as session:\n",
    "        fpl = FPL(session)\n",
    "        players = await fpl.get_players()\n",
    "        await fpl.login(email='balreddy27@gmail.com' , password='balreddy@27')\n",
    "        user = await fpl.get_user(4752994)\n",
    "        my_team = await user.get_team()\n",
    "\n",
    "    print('\\nmyteam  : ',my_team)\n",
    "\n",
    "    top_performers = sorted(\n",
    "        players, key=lambda x: x.goals_scored + x.assists, reverse=True)\n",
    "\n",
    "    player_table = PrettyTable()\n",
    "    player_table.field_names = [\"Player\", \"£\", \"G\", \"A\", \"G + A\"]\n",
    "    player_table.align[\"Player\"] = \"l\"\n",
    "\n",
    "    for player in top_performers[:10]:\n",
    "        goals = player.goals_scored\n",
    "        assists = player.assists\n",
    "        player_table.add_row([player.web_name, f\"£{player.now_cost / 10}\",\n",
    "                            goals, assists, goals + assists])\n",
    "\n",
    "    print(player_table)\n",
    "    \n",
    "if __name__ == \"__main__\":\n",
    "    # asyncio.run(main())\n",
    "    loop = asyncio.get_event_loop()\n",
    "    loop.run_until_complete(main())"
   ]
  },
  {
   "cell_type": "code",
   "execution_count": null,
   "metadata": {},
   "outputs": [],
   "source": []
  },
  {
   "cell_type": "code",
   "execution_count": null,
   "metadata": {},
   "outputs": [],
   "source": []
  }
 ],
 "metadata": {
  "kernelspec": {
   "display_name": "Python 3",
   "language": "python",
   "name": "python3"
  },
  "language_info": {
   "codemirror_mode": {
    "name": "ipython",
    "version": 3
   },
   "file_extension": ".py",
   "mimetype": "text/x-python",
   "name": "python",
   "nbconvert_exporter": "python",
   "pygments_lexer": "ipython3",
   "version": "3.7.4"
  }
 },
 "nbformat": 4,
 "nbformat_minor": 2
}
